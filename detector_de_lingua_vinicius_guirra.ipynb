{
  "nbformat": 4,
  "nbformat_minor": 0,
  "metadata": {
    "colab": {
      "provenance": [],
      "authorship_tag": "ABX9TyOznXEz1ZrGeRThjxUvUP9z",
      "include_colab_link": true
    },
    "kernelspec": {
      "name": "python3",
      "display_name": "Python 3"
    },
    "language_info": {
      "name": "python"
    }
  },
  "cells": [
    {
      "cell_type": "markdown",
      "metadata": {
        "id": "view-in-github",
        "colab_type": "text"
      },
      "source": [
        "<a href=\"https://colab.research.google.com/github/viniciusguirra/detector_de-lingua_vgo/blob/main/detector_de_lingua_vinicius_guirra.ipynb\" target=\"_parent\"><img src=\"https://colab.research.google.com/assets/colab-badge.svg\" alt=\"Open In Colab\"/></a>"
      ]
    },
    {
      "cell_type": "markdown",
      "source": [
        "# Detector de língua\n",
        "* Objetivo: Elaborar uma estratégia e construir um sistema que seja capaz de responder a qual idioma uma frase qualquer pertence.\n",
        "\n"
      ],
      "metadata": {
        "id": "s2xcPTsjBU8P"
      }
    },
    {
      "cell_type": "markdown",
      "source": [
        "## Detector langdetect"
      ],
      "metadata": {
        "id": "tJ6pppeUljBf"
      }
    },
    {
      "cell_type": "markdown",
      "source": [
        "### Instalação da biblioteca"
      ],
      "metadata": {
        "id": "foU6R8T6BrAE"
      }
    },
    {
      "cell_type": "code",
      "source": [
        "!pip install langdetect"
      ],
      "metadata": {
        "id": "tqqLTlkhOWrT",
        "colab": {
          "base_uri": "https://localhost:8080/"
        },
        "outputId": "2c35854d-e642-4a6a-db63-2506783d263a"
      },
      "execution_count": 1,
      "outputs": [
        {
          "output_type": "stream",
          "name": "stdout",
          "text": [
            "Collecting langdetect\n",
            "  Downloading langdetect-1.0.9.tar.gz (981 kB)\n",
            "\u001b[2K     \u001b[90m━━━━━━━━━━━━━━━━━━━━━━━━━━━━━━━━━━━━━━━━\u001b[0m \u001b[32m981.5/981.5 kB\u001b[0m \u001b[31m8.5 MB/s\u001b[0m eta \u001b[36m0:00:00\u001b[0m\n",
            "\u001b[?25h  Preparing metadata (setup.py) ... \u001b[?25l\u001b[?25hdone\n",
            "Requirement already satisfied: six in /usr/local/lib/python3.10/dist-packages (from langdetect) (1.16.0)\n",
            "Building wheels for collected packages: langdetect\n",
            "  Building wheel for langdetect (setup.py) ... \u001b[?25l\u001b[?25hdone\n",
            "  Created wheel for langdetect: filename=langdetect-1.0.9-py3-none-any.whl size=993227 sha256=63d52bc960eb4136c843ce1b9ca8ef6fbe27aac26ac0db06dcecb6c0a582ba1d\n",
            "  Stored in directory: /root/.cache/pip/wheels/95/03/7d/59ea870c70ce4e5a370638b5462a7711ab78fba2f655d05106\n",
            "Successfully built langdetect\n",
            "Installing collected packages: langdetect\n",
            "Successfully installed langdetect-1.0.9\n"
          ]
        }
      ]
    },
    {
      "cell_type": "code",
      "source": [
        "from langdetect import detect"
      ],
      "metadata": {
        "id": "cgSUJ9P-l82P"
      },
      "execution_count": 2,
      "outputs": []
    },
    {
      "cell_type": "markdown",
      "source": [
        "Importação do módulo de detecção de idioma:"
      ],
      "metadata": {
        "id": "Iy-rPcGAmCIr"
      }
    },
    {
      "cell_type": "code",
      "source": [
        "def detectar_idioma(frase):\n",
        "    idioma = detect(frase)\n",
        "    return idioma"
      ],
      "metadata": {
        "id": "sv1ZPldYmNTz"
      },
      "execution_count": 3,
      "outputs": []
    },
    {
      "cell_type": "markdown",
      "source": [
        "Esta função, detectar_idioma, aceita uma string frase como entrada e usa a função detect() do módulo langdetect para determinar o idioma da frase. Em seguida, retorna o idioma detectado."
      ],
      "metadata": {
        "id": "9Kc9tLaDmLcK"
      }
    },
    {
      "cell_type": "code",
      "source": [
        "while True:\n",
        "    frase = input(\"Digite uma frase (ou 'sair' para encerrar): \")\n",
        "\n",
        "    if frase.lower() == 'sair':\n",
        "        print(\"Encerrando o programa...\")\n",
        "        break\n",
        "\n",
        "    idioma = detectar_idioma(frase)\n",
        "    print(\"O idioma da frase '{}' é {}\".format(frase, idioma))\n"
      ],
      "metadata": {
        "colab": {
          "base_uri": "https://localhost:8080/"
        },
        "id": "m_L1K3n6PSwF",
        "outputId": "f1fcffb0-8107-4d62-f05c-dcecddafbfd7"
      },
      "execution_count": 4,
      "outputs": [
        {
          "output_type": "stream",
          "name": "stdout",
          "text": [
            "Digite uma frase (ou 'sair' para encerrar): rasgar as madrugada de 1100 \n",
            "O idioma da frase 'rasgar as madrugada de 1100 ' é pt\n",
            "Digite uma frase (ou 'sair' para encerrar): sair\n",
            "Encerrando o programa...\n"
          ]
        }
      ]
    },
    {
      "cell_type": "markdown",
      "source": [
        "Loop principal\n",
        "* p while cria uma interação contínua com o usuário. Ele solicita ao usuário que digite uma frase. O loop continuará até que o usuário digite \"sair\".\n",
        "* Se o usuário digitar \"sair\", o programa exibirá uma mensagem informando que está encerrando e então sai do loop com o comando break.\n",
        "* Para cada frase inserida pelo usuário que não seja \"sair\", a função detectar_idioma é chamada para determinar o idioma da frase. O resultado é então exibido na tela junto com a própria frase"
      ],
      "metadata": {
        "id": "TBHFpyC1mRsX"
      }
    },
    {
      "cell_type": "markdown",
      "source": [
        "## Detector Fasttext"
      ],
      "metadata": {
        "id": "SqH-mOJRSLxe"
      }
    },
    {
      "cell_type": "markdown",
      "source": [
        "### instalação da biblioteca"
      ],
      "metadata": {
        "id": "ahwheAodniA1"
      }
    },
    {
      "cell_type": "code",
      "source": [
        "!pip install fasttext"
      ],
      "metadata": {
        "colab": {
          "base_uri": "https://localhost:8080/"
        },
        "id": "SlHZb4agSv0p",
        "outputId": "033e2b89-2a15-47fc-832d-bf3fe91942d4"
      },
      "execution_count": 5,
      "outputs": [
        {
          "output_type": "stream",
          "name": "stdout",
          "text": [
            "Collecting fasttext\n",
            "  Downloading fasttext-0.9.2.tar.gz (68 kB)\n",
            "\u001b[?25l     \u001b[90m━━━━━━━━━━━━━━━━━━━━━━━━━━━━━━━━━━━━━━━━\u001b[0m \u001b[32m0.0/68.8 kB\u001b[0m \u001b[31m?\u001b[0m eta \u001b[36m-:--:--\u001b[0m\r\u001b[2K     \u001b[90m━━━━━━━━━━━━━━━━━━━━━━━━━━━━━━━━━━━━━━━━\u001b[0m \u001b[32m68.8/68.8 kB\u001b[0m \u001b[31m2.1 MB/s\u001b[0m eta \u001b[36m0:00:00\u001b[0m\n",
            "\u001b[?25h  Preparing metadata (setup.py) ... \u001b[?25l\u001b[?25hdone\n",
            "Collecting pybind11>=2.2 (from fasttext)\n",
            "  Using cached pybind11-2.11.1-py3-none-any.whl (227 kB)\n",
            "Requirement already satisfied: setuptools>=0.7.0 in /usr/local/lib/python3.10/dist-packages (from fasttext) (67.7.2)\n",
            "Requirement already satisfied: numpy in /usr/local/lib/python3.10/dist-packages (from fasttext) (1.25.2)\n",
            "Building wheels for collected packages: fasttext\n",
            "  Building wheel for fasttext (setup.py) ... \u001b[?25l\u001b[?25hdone\n",
            "  Created wheel for fasttext: filename=fasttext-0.9.2-cp310-cp310-linux_x86_64.whl size=4199773 sha256=8e1c1e365d6816b29cf98b7a846ecf73512a6c26ecbf5f51b2eed3e1f228d450\n",
            "  Stored in directory: /root/.cache/pip/wheels/a5/13/75/f811c84a8ab36eedbaef977a6a58a98990e8e0f1967f98f394\n",
            "Successfully built fasttext\n",
            "Installing collected packages: pybind11, fasttext\n",
            "Successfully installed fasttext-0.9.2 pybind11-2.11.1\n"
          ]
        }
      ]
    },
    {
      "cell_type": "markdown",
      "source": [
        "fasttext, que é utilizada para processamento de texto e inclui modelos pré-treinados para diversas tarefas, incluindo detecção de idioma."
      ],
      "metadata": {
        "id": "a4oMUo-RnwLB"
      }
    },
    {
      "cell_type": "code",
      "source": [
        "import os\n",
        "import requests\n",
        "import fasttext.util"
      ],
      "metadata": {
        "id": "g7l0y-dunzXd"
      },
      "execution_count": 6,
      "outputs": []
    },
    {
      "cell_type": "markdown",
      "source": [
        "importam os módulos necessários para trabalhar com arquivos, fazer solicitações HTTP e configurar modelos FastText"
      ],
      "metadata": {
        "id": "YqI3_PSLn1h5"
      }
    },
    {
      "cell_type": "code",
      "source": [
        "# Verificando se o modelo já está baixado\n",
        "modelo_path = 'lid.176.bin'\n",
        "if not os.path.exists(modelo_path):\n",
        "    print(\"Baixando modelo pré-treinado...\")\n",
        "    # URL direto para o modelo\n",
        "    url = \"https://dl.fbaipublicfiles.com/fasttext/supervised-models/lid.176.bin\"\n",
        "    # Baixando o modelo\n",
        "    r = requests.get(url)\n",
        "    with open(modelo_path, 'wb') as f:\n",
        "        f.write(r.content)\n",
        "    print(\"Modelo baixado com sucesso!\")"
      ],
      "metadata": {
        "colab": {
          "base_uri": "https://localhost:8080/"
        },
        "id": "a35sZWzYn1Ox",
        "outputId": "d9642114-fd9c-4b33-d71c-3a9caa2bbc22"
      },
      "execution_count": 7,
      "outputs": [
        {
          "output_type": "stream",
          "name": "stdout",
          "text": [
            "Baixando modelo pré-treinado...\n",
            "Modelo baixado com sucesso!\n"
          ]
        }
      ]
    },
    {
      "cell_type": "markdown",
      "source": [
        "verifica se o modelo pré-treinado está presente localmente. Se não estiver, ele é baixado a partir de uma URL específica e armazenado localmente."
      ],
      "metadata": {
        "id": "dyeKenNyoKi7"
      }
    },
    {
      "cell_type": "code",
      "source": [
        "\n",
        "# Carregando o modelo pré-treinado para detecção de idioma\n",
        "modelo_fasttext = fasttext.load_model(modelo_path)\n",
        "\n",
        "def detectar_idioma_fasttext(frase):\n",
        "    idioma = modelo_fasttext.predict(frase)[0][0].split('_')[-1]\n",
        "    return idioma\n",
        "\n",
        "while True:\n",
        "    frase = input(\"Digite uma frase (ou 'sair' para encerrar): \")\n",
        "\n",
        "    if frase.lower() == 'sair':\n",
        "        print(\"Encerrando o programa...\")\n",
        "        break\n",
        "\n",
        "    idioma = detectar_idioma_fasttext(frase)\n",
        "    print(\"O idioma da frase '{}' é {}\".format(frase, idioma))\n"
      ],
      "metadata": {
        "colab": {
          "base_uri": "https://localhost:8080/"
        },
        "id": "PTYFmAZKTV7E",
        "outputId": "750448a4-aa62-4167-ff4d-0efae1c71e29"
      },
      "execution_count": 8,
      "outputs": [
        {
          "output_type": "stream",
          "name": "stderr",
          "text": [
            "Warning : `load_model` does not return WordVectorModel or SupervisedModel any more, but a `FastText` object which is very similar.\n"
          ]
        },
        {
          "output_type": "stream",
          "name": "stdout",
          "text": [
            "Digite uma frase (ou 'sair' para encerrar): favela mundão imortal dos meus versos. vida loka \n",
            "O idioma da frase 'favela mundão imortal dos meus versos. vida loka ' é pt\n",
            "Digite uma frase (ou 'sair' para encerrar): sair\n",
            "Encerrando o programa...\n"
          ]
        }
      ]
    },
    {
      "cell_type": "markdown",
      "source": [
        "Carregamento do modelo pré-treinado:\n",
        "* detectar_idioma_fasttext, aceita uma string frase como entrada e usa o método predict() do modelo FastText para determinar o idioma da frase. Em seguida, o código manipula o resultado para extrair apenas a identificação do idioma.\n",
        "Loop Principal\n",
        "* while cria uma interação contínua com o usuário. Ele solicita ao usuário que digite uma frase. O loop continuará até que o usuário digite \"sair\".\n",
        "* Se o usuário digitar \"sair\", o programa exibirá uma mensagem informando que está encerrando e então sai do loop com o comando break.\n",
        "* Para cada frase inserida pelo usuário que não seja \"sair\", a função detectar_idioma_fasttext é chamada para determinar o idioma da frase. O resultado é então exibido na tela junto com a própria frase."
      ],
      "metadata": {
        "id": "ABh3gjRqokei"
      }
    }
  ]
}